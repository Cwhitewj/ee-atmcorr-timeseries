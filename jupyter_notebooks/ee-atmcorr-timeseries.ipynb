{
 "cells": [
  {
   "cell_type": "markdown",
   "metadata": {},
   "source": [
    "# Atmospherically Corrected Time Series in Earth Engine"
   ]
  },
  {
   "cell_type": "markdown",
   "metadata": {},
   "source": [
    "### Overview\n",
    "\n",
    "This notebook creates an atmospherically corrected Sentinel 2 (and/or Landsat) time series.\n",
    "\n",
    "### Output\n",
    "\n",
    "Mean average (cloud-free) pixel values."
   ]
  },
  {
   "cell_type": "markdown",
   "metadata": {},
   "source": [
    "#### Initialize"
   ]
  },
  {
   "cell_type": "code",
   "execution_count": 1,
   "metadata": {
    "collapsed": true
   },
   "outputs": [],
   "source": [
    "import ee\n",
    "ee.Initialize()"
   ]
  },
  {
   "cell_type": "markdown",
   "metadata": {},
   "source": [
    "#### Input variables"
   ]
  },
  {
   "cell_type": "code",
   "execution_count": 3,
   "metadata": {
    "collapsed": false
   },
   "outputs": [],
   "source": [
    "# list of satellite missions\n",
    "satellite_missions = ['Sentinel2']#,'Landsat8','Landsat7','Landsat5','Landsat4']\n",
    "\n",
    "# region of interest\n",
    "geom = ee.Geometry.Point(-157.815781, 21.292931).buffer(100)\n",
    "\n",
    "# start and end of time series\n",
    "startDate = ee.Date('2017-01-01')\n",
    "stopDate  = ee.Date('2017-03-01')"
   ]
  },
  {
   "cell_type": "markdown",
   "metadata": {},
   "source": [
    "#### Generate task"
   ]
  },
  {
   "cell_type": "code",
   "execution_count": null,
   "metadata": {
    "collapsed": true
   },
   "outputs": [],
   "source": [
    "task = cloudfree_atmcorr_average(satellite_missions, geom, startDate, stopDate)"
   ]
  },
  {
   "cell_type": "code",
   "execution_count": null,
   "metadata": {
    "collapsed": true
   },
   "outputs": [],
   "source": [
    "#### Run task\n",
    "task.start()\n",
    "\n",
    "# automatic looping check of task status\n",
    "# print out every 60 seconds\n",
    "# once complete, download the results to csv (send to files/)"
   ]
  }
 ],
 "metadata": {
  "kernelspec": {
   "display_name": "Python 3",
   "language": "python",
   "name": "python3"
  },
  "language_info": {
   "codemirror_mode": {
    "name": "ipython",
    "version": 3
   },
   "file_extension": ".py",
   "mimetype": "text/x-python",
   "name": "python",
   "nbconvert_exporter": "python",
   "pygments_lexer": "ipython3",
   "version": "3.6.0"
  }
 },
 "nbformat": 4,
 "nbformat_minor": 2
}
