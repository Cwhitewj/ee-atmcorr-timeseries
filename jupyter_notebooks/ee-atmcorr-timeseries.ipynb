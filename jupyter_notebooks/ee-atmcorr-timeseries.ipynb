{
 "cells": [
  {
   "cell_type": "markdown",
   "metadata": {},
   "source": [
    "# Atmospherically Corrected Earth Engine Time Series "
   ]
  },
  {
   "cell_type": "markdown",
   "metadata": {},
   "source": [
    "### Overview\n",
    "\n",
    "This notebook creates atmospherically corrected time series of satellite imagery using [Google Earth Engine](https://earthengine.google.com/) and the [6S emulator](https://github.com/samsammurphy/6S_emulator). \n",
    "\n",
    "### Supported missions\n",
    "\n",
    "* Sentintel2\n",
    "* Landsat8\n",
    "* Landsat7\n",
    "* Landsat5\n",
    "* Landsat4\n",
    "\n",
    "### Output\n",
    "\n",
    "Average (cloud-free) pixel values."
   ]
  },
  {
   "cell_type": "markdown",
   "metadata": {},
   "source": [
    "#### Initialize"
   ]
  },
  {
   "cell_type": "code",
   "execution_count": null,
   "metadata": {
    "collapsed": false
   },
   "outputs": [],
   "source": [
    "import ee\n",
    "ee.Initialize()"
   ]
  },
  {
   "cell_type": "code",
   "execution_count": null,
   "metadata": {
    "collapsed": false
   },
   "outputs": [],
   "source": [
    "import os\n",
    "import sys\n",
    "import numpy as np\n",
    "from matplotlib import pylab as plt\n",
    "import pandas as pd\n",
    "%matplotlib inline\n",
    "base_dir = os.path.dirname(os.getcwd())\n",
    "sys.path.append(os.path.join(base_dir,'atmcorr'))\n",
    "\n",
    "from ee_requests import request_meanRadiance\n",
    "from atmcorr_timeseries import surface_reflectance_timeseries\n",
    "from plots import plot_timeseries\n",
    "from IPython.display import display, Image"
   ]
  },
  {
   "cell_type": "markdown",
   "metadata": {},
   "source": [
    "### User Input"
   ]
  },
  {
   "cell_type": "code",
   "execution_count": null,
   "metadata": {
    "collapsed": false
   },
   "outputs": [],
   "source": [
    "# region of interest\n",
    "geom = ee.Geometry.Point(-122.2586, 37.4967)\n",
    "\n",
    "# start and end of time series\n",
    "startDate = ee.Date('1980-01-01')# YYYY-MM-DD\n",
    "stopDate  = ee.Date('2020-01-01')# YYYY-MM-DD\n",
    "\n",
    "# satellite mission\n",
    "mission = 'Sentinel2' # options = 'Sentinel2', 'Landsat8', 'Landsat7', 'Landsat5', 'Landsat4'\n",
    "\n",
    "# cloud and cloud shadow mask?\n",
    "removeClouds = True"
   ]
  },
  {
   "cell_type": "markdown",
   "metadata": {},
   "source": [
    "#### Interpolated look-up tables\n",
    "\n",
    "The emulator uses interpolated look-up tables to generate atmospheric correction coeffients."
   ]
  },
  {
   "cell_type": "code",
   "execution_count": null,
   "metadata": {
    "collapsed": false
   },
   "outputs": [],
   "source": [
    "import interpolated_lookup_tables as iLUT\n",
    "\n",
    "iLUTs = iLUT.handler(mission) \n",
    "iLUTs.get()"
   ]
  },
  {
   "cell_type": "markdown",
   "metadata": {},
   "source": [
    "#### Mean Average Radiance"
   ]
  },
  {
   "cell_type": "code",
   "execution_count": null,
   "metadata": {
    "collapsed": false
   },
   "outputs": [],
   "source": [
    "# earth engine request\n",
    "request = request_meanRadiance(geom, startDate, stopDate, mission, removeClouds = removeClouds) # True or False for now"
   ]
  },
  {
   "cell_type": "code",
   "execution_count": null,
   "metadata": {
    "collapsed": false
   },
   "outputs": [],
   "source": [
    "# get data locally (i.e. client side)\n",
    "print('Getting data from Earth Engine.. ')\n",
    "meanRadiance = request.getInfo()\n",
    "print('Data collection complete')"
   ]
  },
  {
   "cell_type": "markdown",
   "metadata": {},
   "source": [
    "#### Two or more images?"
   ]
  },
  {
   "cell_type": "code",
   "execution_count": null,
   "metadata": {
    "collapsed": false
   },
   "outputs": [],
   "source": [
    "num = len(meanRadiance['features'])\n",
    "print('length of data collection = ',num)\n",
    "if num < 2:\n",
    "    print('*'*42+'\\nneed at least 2 images, try user inputs?\\n'+'*'*42)"
   ]
  },
  {
   "cell_type": "markdown",
   "metadata": {},
   "source": [
    "#### Atmospheric Correction"
   ]
  },
  {
   "cell_type": "code",
   "execution_count": null,
   "metadata": {
    "collapsed": false
   },
   "outputs": [],
   "source": [
    "timeSeries = surface_reflectance_timeseries(meanRadiance, iLUTs, mission)"
   ]
  },
  {
   "cell_type": "markdown",
   "metadata": {},
   "source": [
    "### Plots"
   ]
  },
  {
   "cell_type": "markdown",
   "metadata": {},
   "source": [
    "#### Visible wavelengths"
   ]
  },
  {
   "cell_type": "code",
   "execution_count": null,
   "metadata": {
    "collapsed": false
   },
   "outputs": [],
   "source": [
    "plot_timeseries(timeSeries, 'visible')"
   ]
  },
  {
   "cell_type": "markdown",
   "metadata": {},
   "source": [
    "#### Near infrared"
   ]
  },
  {
   "cell_type": "code",
   "execution_count": null,
   "metadata": {
    "collapsed": false
   },
   "outputs": [],
   "source": [
    "plot_timeseries(timeSeries, 'nir')"
   ]
  },
  {
   "cell_type": "markdown",
   "metadata": {},
   "source": [
    "#### Short-wave Infrared"
   ]
  },
  {
   "cell_type": "code",
   "execution_count": null,
   "metadata": {
    "collapsed": false
   },
   "outputs": [],
   "source": [
    "plot_timeseries(timeSeries, 'swir')"
   ]
  },
  {
   "cell_type": "markdown",
   "metadata": {},
   "source": [
    "#### Atmospheric bands"
   ]
  },
  {
   "cell_type": "code",
   "execution_count": null,
   "metadata": {
    "collapsed": false
   },
   "outputs": [],
   "source": [
    "atmcorr_bands_exist = plot_timeseries(timeSeries, 'atmospheric')\n",
    "if not atmcorr_bands_exist:\n",
    "    print('atmospheric bands not available for:',timeSeries['mission'])"
   ]
  },
  {
   "cell_type": "markdown",
   "metadata": {},
   "source": [
    "#### Save to excel"
   ]
  },
  {
   "cell_type": "code",
   "execution_count": null,
   "metadata": {
    "collapsed": false
   },
   "outputs": [],
   "source": [
    "# create an excel directory\n",
    "excel_dir = os.path.join(base_dir,'files','excel')\n",
    "if not os.path.exists(excel_dir):\n",
    "    os.makedirs(excel_dir)\n",
    "\n",
    "# create pandas data frame\n",
    "df = pd.DataFrame.from_dict(timeSeries)\n",
    "\n",
    "# save to excel\n",
    "df.to_excel(os.path.join(excel_dir, mission+'.xlsx'), index=False)"
   ]
  }
 ],
 "metadata": {
  "kernelspec": {
   "display_name": "Python 3",
   "language": "python",
   "name": "python3"
  },
  "language_info": {
   "codemirror_mode": {
    "name": "ipython",
    "version": 3
   },
   "file_extension": ".py",
   "mimetype": "text/x-python",
   "name": "python",
   "nbconvert_exporter": "python",
   "pygments_lexer": "ipython3",
   "version": "3.6.0"
  }
 },
 "nbformat": 4,
 "nbformat_minor": 2
}
