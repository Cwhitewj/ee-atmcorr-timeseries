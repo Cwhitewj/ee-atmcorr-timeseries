{
 "cells": [
  {
   "cell_type": "markdown",
   "metadata": {},
   "source": [
    "# Atmospherically Corrected Earth Engine Time Series "
   ]
  },
  {
   "cell_type": "markdown",
   "metadata": {},
   "source": [
    "### Overview\n",
    "\n",
    "This notebook creates atmospherically corrected time series of satellite imagery using [Google Earth Engine](https://earthengine.google.com/) and the [6S emulator](https://github.com/samsammurphy/6S_emulator). \n",
    "\n",
    "### Supported missions\n",
    "\n",
    "* Sentintel2\n",
    "* Landsat8\n",
    "* Landsat7\n",
    "* Landsat5\n",
    "* Landsat4\n",
    "\n",
    "### Output\n",
    "\n",
    "Average, cloud-*free* pixel values \n",
    "\n",
    "### Cloud masking\n",
    "\n",
    "Uses standard cloud masks, i.e. FMASK for Landsat and ESA-QA60 for Sentinel 2.  There is no guarantee they will find all clouds, a discussion on more advance and/or alternative cloud masking strategies is available [here](https://groups.google.com/forum/#!searchin/google-earth-engine-developers/cloud$20AND$20sentinel2%7Csort:relevance/google-earth-engine-developers/i63DS-Dg8Sg/FWenONUFBwAJ)"
   ]
  },
  {
   "cell_type": "markdown",
   "metadata": {},
   "source": [
    "#### Initialize"
   ]
  },
  {
   "cell_type": "code",
   "execution_count": 1,
   "metadata": {},
   "outputs": [
    {
     "ename": "ImportError",
     "evalue": "cannot import name 'plotTimeSeries'",
     "output_type": "error",
     "traceback": [
      "\u001b[0;31m---------------------------------------------------------------------------\u001b[0m",
      "\u001b[0;31mImportError\u001b[0m                               Traceback (most recent call last)",
      "\u001b[0;32m<ipython-input-1-faaacb6198bb>\u001b[0m in \u001b[0;36m<module>\u001b[0;34m()\u001b[0m\n\u001b[1;32m     14\u001b[0m \u001b[0;32mfrom\u001b[0m \u001b[0mtimeSeries\u001b[0m \u001b[0;32mimport\u001b[0m \u001b[0mtimeSeries\u001b[0m\u001b[0;34m\u001b[0m\u001b[0m\n\u001b[1;32m     15\u001b[0m \u001b[0;32mfrom\u001b[0m \u001b[0mpostProcessing\u001b[0m \u001b[0;32mimport\u001b[0m \u001b[0mpostProcessing\u001b[0m\u001b[0;34m\u001b[0m\u001b[0m\n\u001b[0;32m---> 16\u001b[0;31m \u001b[0;32mfrom\u001b[0m \u001b[0mplots\u001b[0m \u001b[0;32mimport\u001b[0m \u001b[0mplotTimeSeries\u001b[0m\u001b[0;34m\u001b[0m\u001b[0m\n\u001b[0m",
      "\u001b[0;31mImportError\u001b[0m: cannot import name 'plotTimeSeries'"
     ]
    }
   ],
   "source": [
    "# standard modules\n",
    "import os\n",
    "import sys\n",
    "import ee\n",
    "import colorsys\n",
    "from IPython.display import display, Image\n",
    "%matplotlib inline\n",
    "ee.Initialize()\n",
    "\n",
    "# custom modules\n",
    "base_dir = os.path.dirname(os.getcwd())\n",
    "sys.path.append(os.path.join(base_dir,'atmcorr'))\n",
    "from kml_reader import read_kml\n",
    "from timeSeries import timeSeries\n",
    "from postProcessing import postProcessing\n",
    "from plots import plotTimeSeries"
   ]
  },
  {
   "cell_type": "code",
   "execution_count": null,
   "metadata": {},
   "outputs": [],
   "source": [
    "#debuggin\n",
    "%load_ext autoreload\n",
    "%autoreload 2"
   ]
  },
  {
   "cell_type": "markdown",
   "metadata": {},
   "source": [
    "### User Input"
   ]
  },
  {
   "cell_type": "code",
   "execution_count": null,
   "metadata": {},
   "outputs": [],
   "source": [
    "target = 'Yugama'\n",
    "geom = read_kml('IAVCEI.kml', target)\n",
    "\n",
    "# start and end of time series\n",
    "startDate = '1990-01-01'# YYYY-MM-DD\n",
    "stopDate  = '2017-01-01'# YYYY-MM-DD\n",
    "\n",
    "# satellite missions\n",
    "missions = ['Sentinel2', 'Landsat8', 'Landsat7', 'Landsat5', 'Landsat4']"
   ]
  },
  {
   "cell_type": "markdown",
   "metadata": {},
   "source": [
    "### All time series\n",
    "This function extracts cloud-free time series for each mission, atmospherically corrects them and joins them together"
   ]
  },
  {
   "cell_type": "code",
   "execution_count": null,
   "metadata": {},
   "outputs": [],
   "source": [
    "allTimeSeries = timeSeries(target, geom, startDate, stopDate, missions)"
   ]
  },
  {
   "cell_type": "markdown",
   "metadata": {},
   "source": [
    "### Data post-processing\n",
    "Resample into daily intervals using liner interpolation and calculate hue-saturation-value from RGB."
   ]
  },
  {
   "cell_type": "code",
   "execution_count": null,
   "metadata": {
    "collapsed": true
   },
   "outputs": [],
   "source": [
    "DF = postProcessing(allTimeSeries, startDate, stopDate)"
   ]
  },
  {
   "cell_type": "markdown",
   "metadata": {},
   "source": [
    "### Hue Stretch\n",
    "We visualize *hue* by taking a [HSV](http://infohost.nmt.edu/tcc/help/pubs/colortheory/web/hsv.html) color triplet and 'strecthing' the *saturation*  and *value* (i.e. setting them to 1) then converting the new 'stretched' HSV color-triplet back into RGB for display on the screen."
   ]
  },
  {
   "cell_type": "code",
   "execution_count": null,
   "metadata": {
    "collapsed": true
   },
   "outputs": [],
   "source": [
    "hue_stretch = [colorsys.hsv_to_rgb(hue,1,1) for hue in DF['hue']]"
   ]
  },
  {
   "cell_type": "markdown",
   "metadata": {},
   "source": [
    "### bringing it all together...\n",
    "make a pretty graph to help us do some science."
   ]
  },
  {
   "cell_type": "code",
   "execution_count": null,
   "metadata": {},
   "outputs": [],
   "source": [
    "plotTimeSeries(DF, hue_stretch, startDate, stopDate)"
   ]
  },
  {
   "cell_type": "markdown",
   "metadata": {},
   "source": [
    "Thue hue looks kinda like tree rings through time..\n",
    "\n",
    "..may be useful for phenology and/or wavelet analysis?"
   ]
  }
 ],
 "metadata": {
  "anaconda-cloud": {},
  "kernelspec": {
   "display_name": "Python 3",
   "language": "python",
   "name": "python3"
  },
  "language_info": {
   "codemirror_mode": {
    "name": "ipython",
    "version": 3
   },
   "file_extension": ".py",
   "mimetype": "text/x-python",
   "name": "python",
   "nbconvert_exporter": "python",
   "pygments_lexer": "ipython3",
   "version": "3.6.2"
  }
 },
 "nbformat": 4,
 "nbformat_minor": 2
}
