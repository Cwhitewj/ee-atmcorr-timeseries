{
 "cells": [
  {
   "cell_type": "markdown",
   "metadata": {},
   "source": [
    "# Atmospherically Corrected Earth EngineTime Series "
   ]
  },
  {
   "cell_type": "markdown",
   "metadata": {},
   "source": [
    "### Overview\n",
    "\n",
    "This notebook creates an atmospherically corrected Sentinel 2 time series.\n",
    "\n",
    "### Output\n",
    "\n",
    "Mean average (cloud-free) pixel values."
   ]
  },
  {
   "cell_type": "markdown",
   "metadata": {},
   "source": [
    "#### Initialize"
   ]
  },
  {
   "cell_type": "code",
   "execution_count": null,
   "metadata": {
    "collapsed": false
   },
   "outputs": [],
   "source": [
    "import os\n",
    "import sys\n",
    "import datetime\n",
    "import numpy as np\n",
    "from matplotlib import pylab as plt\n",
    "%matplotlib inline\n",
    "import ee\n",
    "ee.Initialize()\n",
    "sys.path.append(os.path.join(os.path.dirname(os.getcwd()),'atmcorr'))\n",
    "import interpolated_lookup_tables as iLUT\n",
    "from ee_requests import request_meanRadiance\n",
    "from atmcorr_timeseries import surface_reflectance_timeseries"
   ]
  },
  {
   "cell_type": "markdown",
   "metadata": {},
   "source": [
    "#### User Input"
   ]
  },
  {
   "cell_type": "code",
   "execution_count": null,
   "metadata": {
    "collapsed": false
   },
   "outputs": [],
   "source": [
    "# region of interest\n",
    "geom = ee.Geometry.Point(-67.6929, -23.4979)\n",
    "\n",
    "# start and end of time series\n",
    "startDate = ee.Date('2000-01-01')\n",
    "stopDate  = ee.Date('2020-01-01')"
   ]
  },
  {
   "cell_type": "markdown",
   "metadata": {},
   "source": [
    "#### Interpolated look-up tables\n",
    "\n",
    "The emulator uses interpolated look-up tables to generate atmospheric correction coeffients."
   ]
  },
  {
   "cell_type": "code",
   "execution_count": null,
   "metadata": {
    "collapsed": false
   },
   "outputs": [],
   "source": [
    "iLUTs = iLUT.handler() \n",
    "iLUTs.mission = 'Sentinel2'\n",
    "iLUTs.get()"
   ]
  },
  {
   "cell_type": "markdown",
   "metadata": {},
   "source": [
    "<u>pro tip</u>: you can point to existing interpolated look-up table files (.ilut) for faster execution.\n",
    "\n",
    "`iLUTs.path = 'path/to/ilut/files'`"
   ]
  },
  {
   "cell_type": "markdown",
   "metadata": {},
   "source": [
    "#### Image Collection"
   ]
  },
  {
   "cell_type": "code",
   "execution_count": null,
   "metadata": {
    "collapsed": false
   },
   "outputs": [],
   "source": [
    "ic = ee.ImageCollection('COPERNICUS/S2')\\\n",
    "  .filterBounds(geom)\\\n",
    "  .filterDate(startDate, stopDate)\\\n",
    "  .filter(ee.Filter.lt('MEAN_SOLAR_ZENITH_ANGLE',75))"
   ]
  },
  {
   "cell_type": "markdown",
   "metadata": {},
   "source": [
    "#### Mean Average Radiance"
   ]
  },
  {
   "cell_type": "code",
   "execution_count": null,
   "metadata": {
    "collapsed": false
   },
   "outputs": [],
   "source": [
    "# earth engine request\n",
    "request = request_meanRadiance(ic, geom, cloudMask = False)\n",
    "\n",
    "# get data locally (i.e. client side)\n",
    "print('Getting data from Earth Engine.. ')\n",
    "meanRadiance = request.getInfo()\n",
    "print('Data collection complete')"
   ]
  },
  {
   "cell_type": "markdown",
   "metadata": {},
   "source": [
    "#### Atmospheric Correction"
   ]
  },
  {
   "cell_type": "code",
   "execution_count": null,
   "metadata": {
    "collapsed": true
   },
   "outputs": [],
   "source": [
    "timeSeries = surface_reflectance_timeseries(meanRadiance, iLUTs)"
   ]
  },
  {
   "cell_type": "markdown",
   "metadata": {},
   "source": [
    "### Plots"
   ]
  },
  {
   "cell_type": "markdown",
   "metadata": {},
   "source": [
    "#### Visible wavelengths"
   ]
  },
  {
   "cell_type": "code",
   "execution_count": null,
   "metadata": {
    "collapsed": false
   },
   "outputs": [],
   "source": [
    "dates = [datetime.datetime.utcfromtimestamp(dt) for dt in timeSeries['timeStamp']]\n",
    "plt.plot(dates, timeSeries['B2'], 'blue')\n",
    "plt.plot(dates, timeSeries['B3'], 'green')\n",
    "plt.plot(dates, timeSeries['B4'], 'red')\n",
    "plt.title('RGB')\n",
    "plt.show()"
   ]
  },
  {
   "cell_type": "markdown",
   "metadata": {},
   "source": [
    "#### Near infrared"
   ]
  },
  {
   "cell_type": "code",
   "execution_count": null,
   "metadata": {
    "collapsed": false
   },
   "outputs": [],
   "source": [
    "plt.plot(dates, timeSeries['B5'], '#cbc9e2', label='B5: 705 nm')\n",
    "plt.plot(dates, timeSeries['B6'], '#9e9ac8', label='B6: 740 nm')\n",
    "plt.plot(dates, timeSeries['B7'], '#756bb1', label='B7: 783 nm')\n",
    "plt.plot(dates, timeSeries['B8'], '#54278f', label='B8: 842 nm')\n",
    "plt.title('Near Infrared')\n",
    "plt.legend()\n",
    "plt.show()"
   ]
  },
  {
   "cell_type": "markdown",
   "metadata": {},
   "source": [
    "#### Short-wave Infrared"
   ]
  },
  {
   "cell_type": "code",
   "execution_count": null,
   "metadata": {
    "collapsed": false
   },
   "outputs": [],
   "source": [
    "plt.plot(dates, timeSeries['B11'], '#993404', label='B11: 1610 nm')\n",
    "plt.plot(dates, timeSeries['B12'], '#fe9929', label='B12: 2190 nm')\n",
    "plt.title('Short-wave Infrared')\n",
    "plt.legend()\n",
    "plt.show()"
   ]
  },
  {
   "cell_type": "markdown",
   "metadata": {},
   "source": [
    "#### Atmospheric bands"
   ]
  },
  {
   "cell_type": "code",
   "execution_count": null,
   "metadata": {
    "collapsed": false
   },
   "outputs": [],
   "source": [
    "plt.plot(dates, timeSeries['B1'], '#c994c7', label='Aerosol (B1: 443 nm)')\n",
    "plt.plot(dates, timeSeries['B9'], '#225ea8', label='Water Vapour (B9: 940 nm)')\n",
    "plt.plot(dates, timeSeries['B10'], '#c7e9b4', label='Cirrus (B10: 1375 nm)')\n",
    "plt.title('Atmospheric Wavebands')\n",
    "plt.legend()\n",
    "plt.show()"
   ]
  }
 ],
 "metadata": {
  "kernelspec": {
   "display_name": "Python 3",
   "language": "python",
   "name": "python3"
  },
  "language_info": {
   "codemirror_mode": {
    "name": "ipython",
    "version": 3
   },
   "file_extension": ".py",
   "mimetype": "text/x-python",
   "name": "python",
   "nbconvert_exporter": "python",
   "pygments_lexer": "ipython3",
   "version": "3.6.0"
  }
 },
 "nbformat": 4,
 "nbformat_minor": 2
}
