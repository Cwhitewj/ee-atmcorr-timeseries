{
 "cells": [
  {
   "cell_type": "markdown",
   "metadata": {},
   "source": [
    "# Atmospherically Corrected Earth Engine Time Series "
   ]
  },
  {
   "cell_type": "markdown",
   "metadata": {},
   "source": [
    "### Overview\n",
    "\n",
    "This notebook creates atmospherically corrected time series of satellite imagery using [Google Earth Engine](https://earthengine.google.com/) and the [6S emulator](https://github.com/samsammurphy/6S_emulator). \n",
    "\n",
    "### Supported missions\n",
    "\n",
    "* Sentintel2\n",
    "* Landsat8\n",
    "* Landsat7\n",
    "* Landsat5\n",
    "* Landsat4\n",
    "\n",
    "### Output\n",
    "\n",
    "Average (cloud-free) pixel values."
   ]
  },
  {
   "cell_type": "markdown",
   "metadata": {},
   "source": [
    "#### Initialize"
   ]
  },
  {
   "cell_type": "code",
   "execution_count": 1,
   "metadata": {
    "collapsed": false
   },
   "outputs": [],
   "source": [
    "import ee\n",
    "ee.Initialize()"
   ]
  },
  {
   "cell_type": "code",
   "execution_count": 2,
   "metadata": {
    "collapsed": false
   },
   "outputs": [],
   "source": [
    "import os\n",
    "import sys\n",
    "import numpy as np\n",
    "from matplotlib import pylab as plt\n",
    "import pandas as pd\n",
    "%matplotlib inline\n",
    "base_dir = os.path.dirname(os.getcwd())\n",
    "sys.path.append(os.path.join(base_dir,'atmcorr'))\n",
    "\n",
    "from ee_requests import request_meanRadiance\n",
    "from atmcorr_timeseries import surface_reflectance_timeseries\n",
    "from plots import plot_timeseries\n",
    "from IPython.display import display, Image"
   ]
  },
  {
   "cell_type": "markdown",
   "metadata": {},
   "source": [
    "### User Input"
   ]
  },
  {
   "cell_type": "code",
   "execution_count": 3,
   "metadata": {
    "collapsed": false
   },
   "outputs": [],
   "source": [
    "# region of interest\n",
    "geom = ee.Geometry.Point(-122.2586, 37.4967)\n",
    "\n",
    "# start and end of time series\n",
    "startDate = ee.Date('1980-01-01')# YYYY-MM-DD\n",
    "stopDate  = ee.Date('2020-01-01')# YYYY-MM-DD\n",
    "\n",
    "# satellite mission\n",
    "mission = 'Sentinel2' # options = 'Sentinel2', 'Landsat8', 'Landsat7', 'Landsat5', 'Landsat4'\n",
    "\n",
    "# cloud and cloud shadow mask?\n",
    "removeClouds = True"
   ]
  },
  {
   "cell_type": "markdown",
   "metadata": {},
   "source": [
    "#### Interpolated look-up tables\n",
    "\n",
    "The emulator uses interpolated look-up tables to generate atmospheric correction coeffients."
   ]
  },
  {
   "cell_type": "code",
   "execution_count": 4,
   "metadata": {
    "collapsed": false
   },
   "outputs": [
    {
     "name": "stdout",
     "output_type": "stream",
     "text": [
      "Loading interpolated look up tables (.ilut)..\n",
      "Interpolated look-up table files not found in:\n",
      "/home/sam/github/ee-atmcorr-timeseries/files/iLUTs/S2A_MSI/Continental/view_zenith_0\n",
      "downloading look up table (.lut) files..\n",
      "download successful\n",
      "\n",
      "...Running n-dimensional interpolation may take a several minutes (only need to do this once)...\n",
      "Interpolating: S2A_MSI_01.lut\n",
      "Interpolation took 64.23 (secs) = \n",
      "Interpolating: S2A_MSI_02.lut\n",
      "Interpolation took 65.10 (secs) = \n",
      "Interpolating: S2A_MSI_03.lut\n",
      "Interpolation took 65.69 (secs) = \n",
      "Interpolating: S2A_MSI_04.lut\n",
      "Interpolation took 64.31 (secs) = \n",
      "Interpolating: S2A_MSI_05.lut\n",
      "Interpolation took 63.88 (secs) = \n",
      "Interpolating: S2A_MSI_06.lut\n",
      "Interpolation took 64.06 (secs) = \n",
      "Interpolating: S2A_MSI_07.lut\n",
      "Interpolation took 64.08 (secs) = \n",
      "Interpolating: S2A_MSI_08.lut\n",
      "Interpolation took 63.37 (secs) = \n",
      "Interpolating: S2A_MSI_09.lut\n",
      "Interpolation took 63.18 (secs) = \n",
      "Interpolating: S2A_MSI_10.lut\n",
      "Interpolation took 63.10 (secs) = \n",
      "Interpolating: S2A_MSI_11.lut\n",
      "Interpolation took 63.37 (secs) = \n",
      "Interpolating: S2A_MSI_12.lut\n",
      "Interpolation took 63.44 (secs) = \n",
      "Interpolating: S2A_MSI_13.lut\n",
      "Interpolation took 63.65 (secs) = \n",
      "Loading interpolated look up tables (.ilut)..\n",
      "Success\n"
     ]
    }
   ],
   "source": [
    "import interpolated_lookup_tables as iLUT\n",
    "\n",
    "iLUTs = iLUT.handler(mission) \n",
    "iLUTs.get()"
   ]
  },
  {
   "cell_type": "markdown",
   "metadata": {},
   "source": [
    "#### Mean Average Radiance"
   ]
  },
  {
   "cell_type": "code",
   "execution_count": 5,
   "metadata": {
    "collapsed": false
   },
   "outputs": [],
   "source": [
    "# earth engine request\n",
    "request = request_meanRadiance(geom, startDate, stopDate, mission, removeClouds)"
   ]
  },
  {
   "cell_type": "code",
   "execution_count": 6,
   "metadata": {
    "collapsed": false
   },
   "outputs": [
    {
     "name": "stdout",
     "output_type": "stream",
     "text": [
      "Getting data from Earth Engine.. \n",
      "Data collection complete\n"
     ]
    }
   ],
   "source": [
    "# get data locally (i.e. client side)\n",
    "print('Getting data from Earth Engine.. ')\n",
    "meanRadiance = request.getInfo()\n",
    "print('Data collection complete')"
   ]
  },
  {
   "cell_type": "markdown",
   "metadata": {},
   "source": [
    "#### Two or more images?"
   ]
  },
  {
   "cell_type": "code",
   "execution_count": 7,
   "metadata": {
    "collapsed": false
   },
   "outputs": [
    {
     "name": "stdout",
     "output_type": "stream",
     "text": [
      "length of data collection =  61\n"
     ]
    }
   ],
   "source": [
    "num = len(meanRadiance['features'])\n",
    "print('length of data collection = ',num)\n",
    "if num < 2:\n",
    "    print('*'*42+'\\nneed at least 2 images, try user inputs?\\n'+'*'*42)"
   ]
  },
  {
   "cell_type": "markdown",
   "metadata": {},
   "source": [
    "#### Atmospheric Correction"
   ]
  },
  {
   "cell_type": "code",
   "execution_count": 8,
   "metadata": {
    "collapsed": false
   },
   "outputs": [],
   "source": [
    "timeSeries = surface_reflectance_timeseries(meanRadiance, iLUTs, mission)"
   ]
  },
  {
   "cell_type": "markdown",
   "metadata": {},
   "source": [
    "### Plots"
   ]
  },
  {
   "cell_type": "markdown",
   "metadata": {},
   "source": [
    "#### Visible wavelengths"
   ]
  },
  {
   "cell_type": "code",
   "execution_count": 9,
   "metadata": {
    "collapsed": false
   },
   "outputs": [
    {
     "data": {
      "image/png": "[encoded data removed]",
      "text/plain": [
       "<matplotlib.figure.Figure at 0x7faa5f1996d8>"
      ]
     },
     "metadata": {},
     "output_type": "display_data"
    }
   ],
   "source": [
    "plot_timeseries(timeSeries, 'visible')"
   ]
  },
  {
   "cell_type": "markdown",
   "metadata": {},
   "source": [
    "#### Near infrared"
   ]
  },
  {
   "cell_type": "code",
   "execution_count": 10,
   "metadata": {
    "collapsed": false
   },
   "outputs": [
    {
     "data": {
      "image/png": "[encoded data removed]",
      "text/plain": [
       "<matplotlib.figure.Figure at 0x7faa5e9338d0>"
      ]
     },
     "metadata": {},
     "output_type": "display_data"
    }
   ],
   "source": [
    "plot_timeseries(timeSeries, 'nir')"
   ]
  },
  {
   "cell_type": "markdown",
   "metadata": {},
   "source": [
    "#### Short-wave Infrared"
   ]
  },
  {
   "cell_type": "code",
   "execution_count": 11,
   "metadata": {
    "collapsed": false
   },
   "outputs": [
    {
     "data": {
      "image/png": "[encoded data removed]",
      "text/plain": [
       "<matplotlib.figure.Figure at 0x7faa5e8f1a90>"
      ]
     },
     "metadata": {},
     "output_type": "display_data"
    }
   ],
   "source": [
    "plot_timeseries(timeSeries, 'swir')"
   ]
  },
  {
   "cell_type": "markdown",
   "metadata": {},
   "source": [
    "#### Atmospheric bands"
   ]
  },
  {
   "cell_type": "code",
   "execution_count": 12,
   "metadata": {
    "collapsed": false
   },
   "outputs": [
    {
     "data": {
      "image/png": "[encoded data removed]",
      "text/plain": [
       "<matplotlib.figure.Figure at 0x7faa5eab20b8>"
      ]
     },
     "metadata": {},
     "output_type": "display_data"
    }
   ],
   "source": [
    "atmcorr_bands_exist = plot_timeseries(timeSeries, 'atmospheric')\n",
    "if not atmcorr_bands_exist:\n",
    "    print('atmospheric bands not available for:',timeSeries['mission'])"
   ]
  },
  {
   "cell_type": "markdown",
   "metadata": {},
   "source": [
    "#### Save to excel"
   ]
  },
  {
   "cell_type": "code",
   "execution_count": 13,
   "metadata": {
    "collapsed": false
   },
   "outputs": [],
   "source": [
    "# create an excel directory\n",
    "excel_dir = os.path.join(base_dir,'files','excel')\n",
    "if not os.path.exists(excel_dir):\n",
    "    os.makedirs(excel_dir)\n",
    "\n",
    "# create pandas data frame\n",
    "df = pd.DataFrame.from_dict(timeSeries)\n",
    "\n",
    "# save to excel\n",
    "df.to_excel(os.path.join(excel_dir, mission+'.xlsx'), index=False)"
   ]
  }
 ],
 "metadata": {
  "anaconda-cloud": {},
  "kernelspec": {
   "display_name": "Python [default]",
   "language": "python",
   "name": "python3"
  },
  "language_info": {
   "codemirror_mode": {
    "name": "ipython",
    "version": 3
   },
   "file_extension": ".py",
   "mimetype": "text/x-python",
   "name": "python",
   "nbconvert_exporter": "python",
   "pygments_lexer": "ipython3",
   "version": "3.5.3"
  }
 },
 "nbformat": 4,
 "nbformat_minor": 2
}
