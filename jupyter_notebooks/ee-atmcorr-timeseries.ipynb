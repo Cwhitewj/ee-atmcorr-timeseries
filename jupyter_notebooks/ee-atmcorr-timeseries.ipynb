{
 "cells": [
  {
   "cell_type": "markdown",
   "metadata": {},
   "source": [
    "# Atmospherically Corrected Time Series in Earth Engine"
   ]
  },
  {
   "cell_type": "markdown",
   "metadata": {},
   "source": [
    "### Overview\n",
    "\n",
    "This notebook creates an atmospherically corrected Sentinel 2 time series.\n",
    "\n",
    "### Output\n",
    "\n",
    "Mean average (cloud-free) pixel values."
   ]
  },
  {
   "cell_type": "markdown",
   "metadata": {},
   "source": [
    "#### Initialize"
   ]
  },
  {
   "cell_type": "code",
   "execution_count": 1,
   "metadata": {
    "collapsed": true
   },
   "outputs": [],
   "source": [
    "import ee\n",
    "ee.Initialize()"
   ]
  },
  {
   "cell_type": "code",
   "execution_count": 2,
   "metadata": {
    "collapsed": false
   },
   "outputs": [],
   "source": [
    "import os\n",
    "import sys\n",
    "sys.path.append(os.path.join(os.path.dirname(os.getcwd()),'atmcorr'))\n",
    "import interpolated_lookup_tables as iLUT\n",
    "from ee_requests import request_cloudfree_averages\n",
    "# import mission_specifics => solar_zenith_filter, band_names, mission_names\n",
    "# import request_cloudfree_averages\n",
    "# import atmcorr"
   ]
  },
  {
   "cell_type": "markdown",
   "metadata": {},
   "source": [
    "#### Input variables"
   ]
  },
  {
   "cell_type": "code",
   "execution_count": 3,
   "metadata": {
    "collapsed": false
   },
   "outputs": [],
   "source": [
    "# region of interest\n",
    "geom = ee.Geometry.Point(-157.815781, 21.292931).buffer(100)\n",
    "\n",
    "# start and end of time series\n",
    "startDate = ee.Date('2017-01-01')\n",
    "stopDate  = ee.Date('2017-02-01')"
   ]
  },
  {
   "cell_type": "markdown",
   "metadata": {},
   "source": [
    "#### Interpolated look-up tables\n",
    "\n",
    "The emulator uses interpolated look-up tables to generate atmospheric correction coeffients.\n",
    "They are downloaded automatically (if necessary)."
   ]
  },
  {
   "cell_type": "code",
   "execution_count": 4,
   "metadata": {
    "collapsed": false
   },
   "outputs": [],
   "source": [
    "iLUTs = iLUT.handler() \n",
    "iLUTs.iLUT_path = '/home/sam/github/6S_emulator/files/iLUTs/S2A_MSI/Continental/view_zenith_0'\n",
    "iLUTs.get()  # must define one of following: imageCollectionID, satellite_mission, iLUT_path"
   ]
  },
  {
   "cell_type": "markdown",
   "metadata": {},
   "source": [
    "#### Image Collection"
   ]
  },
  {
   "cell_type": "code",
   "execution_count": 5,
   "metadata": {
    "collapsed": false
   },
   "outputs": [],
   "source": [
    "ic = ee.ImageCollection('COPERNICUS/S2')\\\n",
    "  .filterBounds(geom)\\\n",
    "  .filterDate(startDate, stopDate)\\\n",
    "  .filter(ee.Filter.lt('MEAN_SOLAR_ZENITH_ANGLE',75))"
   ]
  },
  {
   "cell_type": "markdown",
   "metadata": {},
   "source": [
    "#### Get cloud-free averages"
   ]
  },
  {
   "cell_type": "code",
   "execution_count": 6,
   "metadata": {
    "collapsed": false
   },
   "outputs": [
    {
     "name": "stdout",
     "output_type": "stream",
     "text": [
      "Getting info from Earth Engine.. \n"
     ]
    }
   ],
   "source": [
    "# earth engine request\n",
    "request = request_cloudfree_averages(ic, geom)\n",
    "\n",
    "# get data locally (i.e. client side)\n",
    "print('Getting info from Earth Engine.. ')\n",
    "cloudfree_averages = request.getInfo()"
   ]
  },
  {
   "cell_type": "code",
   "execution_count": 7,
   "metadata": {
    "collapsed": false
   },
   "outputs": [
    {
     "name": "stdout",
     "output_type": "stream",
     "text": [
      "{'mean_averages': {'B1': 1427.0, 'B10': 9.0, 'B11': 1592.0, 'B12': 1230.0, 'B2': 1119.0, 'B3': 1109.0, 'B4': 1009.0, 'B5': 1078.0, 'B6': 1171.0, 'B7': 1301.0, 'B8': 1299.0, 'B8A': 1516.0, 'B9': 337.0, 'QA10': 0.0, 'QA20': 0.0, 'QA60': 0.0}}\n"
     ]
    }
   ],
   "source": [
    "data = cloudfree_averages['features']\n",
    "print(data[0]['properties'])"
   ]
  },
  {
   "cell_type": "markdown",
   "metadata": {},
   "source": [
    "#### Atmospheric Correction"
   ]
  },
  {
   "cell_type": "code",
   "execution_count": 8,
   "metadata": {
    "collapsed": true
   },
   "outputs": [],
   "source": [
    "# atmcorr_timeseries = atmcorr(cloudfree_averages, iLUTs)"
   ]
  },
  {
   "cell_type": "markdown",
   "metadata": {},
   "source": [
    "#### Plot"
   ]
  },
  {
   "cell_type": "code",
   "execution_count": 9,
   "metadata": {
    "collapsed": true
   },
   "outputs": [],
   "source": [
    "# insert pretty plot here (before and after?)"
   ]
  }
 ],
 "metadata": {
  "kernelspec": {
   "display_name": "Python 3",
   "language": "python",
   "name": "python3"
  },
  "language_info": {
   "codemirror_mode": {
    "name": "ipython",
    "version": 3
   },
   "file_extension": ".py",
   "mimetype": "text/x-python",
   "name": "python",
   "nbconvert_exporter": "python",
   "pygments_lexer": "ipython3",
   "version": "3.6.0"
  }
 },
 "nbformat": 4,
 "nbformat_minor": 2
}
