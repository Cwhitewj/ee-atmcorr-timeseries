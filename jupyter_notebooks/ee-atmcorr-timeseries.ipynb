{
 "cells": [
  {
   "cell_type": "markdown",
   "metadata": {},
   "source": [
    "# Atmospherically Corrected Earth Engine Time Series "
   ]
  },
  {
   "cell_type": "markdown",
   "metadata": {},
   "source": [
    "### Overview\n",
    "\n",
    "This notebook creates atmospherically corrected time series of satellite imagery using [Google Earth Engine](https://earthengine.google.com/) and the [6S emulator](https://github.com/samsammurphy/6S_emulator). \n",
    "\n",
    "### Supported missions\n",
    "\n",
    "* Sentintel2\n",
    "* Landsat8\n",
    "* Landsat7\n",
    "* Landsat5\n",
    "* Landsat4\n",
    "\n",
    "### Output\n",
    "\n",
    "Average (cloud-free) pixel values."
   ]
  },
  {
   "cell_type": "markdown",
   "metadata": {},
   "source": [
    "#### Initialize"
   ]
  },
  {
   "cell_type": "code",
   "execution_count": 308,
   "metadata": {
    "collapsed": false
   },
   "outputs": [],
   "source": [
    "import ee\n",
    "ee.Initialize()"
   ]
  },
  {
   "cell_type": "code",
   "execution_count": 309,
   "metadata": {
    "collapsed": false
   },
   "outputs": [],
   "source": [
    "#standard modules\n",
    "import os\n",
    "import sys\n",
    "import numpy as np\n",
    "import pandas as pd\n",
    "import colorsys\n",
    "from matplotlib import pylab as plt\n",
    "import matplotlib.dates as mdates\n",
    "\n",
    "from IPython.display import display, Image\n",
    "%matplotlib inline\n",
    "\n",
    "# custom modules\n",
    "base_dir = os.path.dirname(os.getcwd())\n",
    "sys.path.append(os.path.join(base_dir,'atmcorr'))\n",
    "from kml_reader import read_kml\n",
    "import interpolated_lookup_tables as iLUT\n",
    "from ee_requests import request_meanRadiance\n",
    "from atmcorr_timeseries import surface_reflectance_timeseries\n",
    "from mission_specifics import ee_bandnames\n",
    "from mission_specifics import common_bandnames\n",
    "from plots import plot_timeseries"
   ]
  },
  {
   "cell_type": "markdown",
   "metadata": {},
   "source": [
    "### User Input"
   ]
  },
  {
   "cell_type": "code",
   "execution_count": 310,
   "metadata": {
    "collapsed": false
   },
   "outputs": [],
   "source": [
    "# read kml file\n",
    "# target = 'Lake Nyos'\n",
    "# geom = read_kml('RED_LAKES.kml', target)# <-- Earth Engine geometry\n",
    "target = 'Kelimutu_TAP'\n",
    "geom = ee.Geometry.Point(121.81734, -8.768961).buffer(150)\n",
    "\n",
    "# start and end of time series\n",
    "startDate = '1990-01-01'# YYYY-MM-DD\n",
    "stopDate  = '2017-01-01'# YYYY-MM-DD\n",
    "\n",
    "# satellite missions\n",
    "missions = ['Sentinel2', 'Landsat8', 'Landsat7', 'Landsat5', 'Landsat4']\n",
    "\n",
    "# cloud and cloud shadow mask?\n",
    "removeClouds = True"
   ]
  },
  {
   "cell_type": "markdown",
   "metadata": {},
   "source": [
    "### Time series extractor\n",
    "\n",
    "This is the function for extracting atmospherically corrected, cloud-free time series for a given satellite mission.\n"
   ]
  },
  {
   "cell_type": "code",
   "execution_count": 311,
   "metadata": {
    "collapsed": true
   },
   "outputs": [],
   "source": [
    "def timeseries_extrator(mission):\n",
    "    \n",
    "    # interpolated lookup tables \n",
    "    iLUTs = iLUT.handler(mission) \n",
    "    iLUTs.get()\n",
    "    \n",
    "    # earth engine request\n",
    "    print('Getting data from Earth Engine.. ')\n",
    "    request = request_meanRadiance(geom, ee.Date(startDate), ee.Date(stopDate), \\\n",
    "                                   mission, removeClouds)\n",
    "    meanRadiance = request.getInfo()\n",
    "    print('Data collection complete')\n",
    "    \n",
    "    # return if no pixels available\n",
    "    num = len(meanRadiance['features'])\n",
    "    if num == 0:\n",
    "        return {}\n",
    "    else:\n",
    "        print('number of valid images = {}'.format(num))\n",
    "    \n",
    "    # atmospheric correction\n",
    "    print('Running atmospheric correction')\n",
    "    timeseries = surface_reflectance_timeseries(meanRadiance, iLUTs, mission)\n",
    "    print('Done')\n",
    "    \n",
    "    return timeseries  "
   ]
  },
  {
   "cell_type": "markdown",
   "metadata": {},
   "source": [
    "### All satellite missions\n",
    "These lines of code extract time series for each mission and join them together"
   ]
  },
  {
   "cell_type": "code",
   "execution_count": 312,
   "metadata": {
    "collapsed": false
   },
   "outputs": [
    {
     "name": "stdout",
     "output_type": "stream",
     "text": [
      "Loading interpolated look up tables (.ilut) for Sentinel2..\n",
      "Success\n",
      "Getting data from Earth Engine.. \n",
      "Data collection complete\n",
      "number of valid images = 22\n",
      "Running atmospheric correction\n",
      "Done\n",
      "Loading interpolated look up tables (.ilut) for Landsat8..\n",
      "Success\n",
      "Getting data from Earth Engine.. \n",
      "Data collection complete\n",
      "number of valid images = 77\n",
      "Running atmospheric correction\n",
      "Done\n",
      "Loading interpolated look up tables (.ilut) for Landsat7..\n",
      "Success\n",
      "Getting data from Earth Engine.. \n",
      "Data collection complete\n",
      "number of valid images = 348\n",
      "Running atmospheric correction\n",
      "Done\n",
      "Loading interpolated look up tables (.ilut) for Landsat5..\n",
      "Success\n",
      "Getting data from Earth Engine.. \n",
      "Data collection complete\n",
      "number of valid images = 315\n",
      "Running atmospheric correction\n",
      "Done\n",
      "Loading interpolated look up tables (.ilut) for Landsat4..\n",
      "Success\n",
      "Getting data from Earth Engine.. \n",
      "Data collection complete\n"
     ]
    }
   ],
   "source": [
    "# will store results here (and use consistent band names)\n",
    "allTimeSeries = {\n",
    "    'blue':[], \n",
    "    'green':[], \n",
    "    'red':[], \n",
    "    'nir':[],\n",
    "    'swir1':[], \n",
    "    'swir2':[],\n",
    "    'timeStamp':[]\n",
    "}\n",
    "\n",
    "for mission in missions:\n",
    "    \n",
    "    timeseries = timeseries_extrator(mission) \n",
    "    \n",
    "    # names of wavebands\n",
    "    eeNames = ee_bandnames(mission)\n",
    "    commonNames = common_bandnames(mission)\n",
    "    \n",
    "    # add mission to timeseries\n",
    "    for key in timeseries.keys():\n",
    "        if key[0] == 'B':\n",
    "            commonName = commonNames[eeNames.index(key)]\n",
    "            if commonName in allTimeSeries.keys():\n",
    "                allTimeSeries[commonName].append(timeseries[key])\n",
    "        if key == 'timeStamp':\n",
    "            allTimeSeries['timeStamp'].append(timeseries['timeStamp'])"
   ]
  },
  {
   "cell_type": "code",
   "execution_count": 313,
   "metadata": {
    "collapsed": false
   },
   "outputs": [],
   "source": [
    "# flatten each mission into a single list\n",
    "def flatten(multilist):\n",
    "    if isinstance(multilist[0], list):\n",
    "        return [item for sublist in multilist for item in sublist]\n",
    "    else:\n",
    "        return multilist\n",
    "\n",
    "for key in allTimeSeries.keys():\n",
    "    allTimeSeries[key] = flatten(allTimeSeries[key])"
   ]
  },
  {
   "cell_type": "markdown",
   "metadata": {},
   "source": [
    "### Data post-processing\n",
    "Resample the data into daily intervals, interpolate between data points and clip for the time period we are interested in."
   ]
  },
  {
   "cell_type": "code",
   "execution_count": 318,
   "metadata": {
    "collapsed": false
   },
   "outputs": [],
   "source": [
    "def postProcessing(allTimeSeries):\n",
    "    \n",
    "    # create a dataframe\n",
    "    df = pd.DataFrame.from_dict(allTimeSeries)\n",
    "\n",
    "    # timestamp as index\n",
    "    df.index = [pd.datetime.utcfromtimestamp(t) for t in allTimeSeries['timeStamp']]\n",
    "    df = df.drop('timeStamp', axis=1)\n",
    "\n",
    "    # resample to daily\n",
    "    daily = df.resample('D').mean()\n",
    "\n",
    "    # fill in NaNs\n",
    "    interpolated = daily.interpolate().ffill().bfill()\n",
    "\n",
    "    # clip time series\n",
    "    return interpolated.truncate(before=startDate, after=stopDate)"
   ]
  },
  {
   "cell_type": "code",
   "execution_count": 319,
   "metadata": {
    "collapsed": true
   },
   "outputs": [],
   "source": [
    "# DataFrame of post-processed timeseries\n",
    "DF = postProcessing(allTimeSeries)"
   ]
  },
  {
   "cell_type": "markdown",
   "metadata": {},
   "source": [
    "### Hue Saturation Value\n",
    "\n",
    "A new color space. Here we take (red, green, blue) surface reflectances and calulate (hue, saturation, value)."
   ]
  },
  {
   "cell_type": "code",
   "execution_count": 320,
   "metadata": {
    "collapsed": false
   },
   "outputs": [],
   "source": [
    "rgb = list(zip(DF['red'], DF['green'], DF['blue']))\n",
    "DF['hue'] = [colorsys.rgb_to_hsv(x[0], x[1], x[2])[0] for x in rgb]\n",
    "DF['sat'] = [colorsys.rgb_to_hsv(x[0], x[1], x[2])[1] for x in rgb]\n",
    "DF['val'] = [colorsys.rgb_to_hsv(x[0], x[1], x[2])[2] for x in rgb]"
   ]
  },
  {
   "cell_type": "markdown",
   "metadata": {},
   "source": [
    "### Hue Stretch\n",
    "A hue visualization created by 'strecthing' saturation  and value so that they equal 1, then converting this new hsv triplet back into rgb to display on the screen"
   ]
  },
  {
   "cell_type": "code",
   "execution_count": 321,
   "metadata": {
    "collapsed": false
   },
   "outputs": [],
   "source": [
    "hue_stretch = [colorsys.hsv_to_rgb(hue,1,1) for hue in DF['hue']]"
   ]
  },
  {
   "cell_type": "markdown",
   "metadata": {},
   "source": [
    "### Plot"
   ]
  },
  {
   "cell_type": "markdown",
   "metadata": {},
   "source": [
    "This function defines a plot to put the data in"
   ]
  },
  {
   "cell_type": "code",
   "execution_count": 322,
   "metadata": {
    "collapsed": false
   },
   "outputs": [],
   "source": [
    "def figure_plotting_space():\n",
    "\n",
    "    fig = plt.figure(figsize=(6,12))\n",
    "    bar_height = 0.04\n",
    "    mini_gap = 0.03\n",
    "    gap = 0.05\n",
    "    graph_height = 0.24\n",
    "\n",
    "    axH = fig.add_axes([0.1,gap+3*graph_height+2.5*mini_gap,0.87,bar_height])\n",
    "    axS = fig.add_axes([0.1,gap+2*graph_height+2*mini_gap,0.87,graph_height])\n",
    "    axV = fig.add_axes([0.1,gap+graph_height+mini_gap,0.87,graph_height])\n",
    "    \n",
    "    return fig, axH, axS, axV"
   ]
  },
  {
   "cell_type": "markdown",
   "metadata": {},
   "source": [
    "This function plots the 'hut stretch' color bar"
   ]
  },
  {
   "cell_type": "code",
   "execution_count": 323,
   "metadata": {
    "collapsed": true
   },
   "outputs": [],
   "source": [
    "def plot_colorbar(ax,image,ylabel=False):\n",
    "        \n",
    "    # plot image inside of figure 'axes'\n",
    "    ax.imshow(image, interpolation='nearest', aspect='auto')\n",
    "    ax.set_xticks([])\n",
    "    ax.set_yticks([])\n",
    "    ax.set_ylabel(ylabel)"
   ]
  },
  {
   "cell_type": "markdown",
   "metadata": {},
   "source": [
    "This function plots the time series graphs"
   ]
  },
  {
   "cell_type": "code",
   "execution_count": 324,
   "metadata": {
    "collapsed": false
   },
   "outputs": [],
   "source": [
    "def plot_timeseries(ax, name):\n",
    "\n",
    "    # original time series\n",
    "    ax.plot(DF[name],color='#1f77b4')\n",
    "    ax.set_ylabel(name)\n",
    "    ax.set_xlim(pd.datetime.strptime(startDate,'%Y-%m-%d'),\\\n",
    "                pd.datetime.strptime(stopDate,'%Y-%m-%d'))\n",
    "\n",
    "    # boxcar\n",
    "#     D, Y = interpolate_series(t,y,start,stop)\n",
    "#     boxD, boxY = boxcar_average(D,Y,180)\n",
    "#     ax.plot(boxD,boxY,'r-')\n",
    "\n",
    "    # make the dates exact\n",
    "    ax.fmt_xdata = mdates.DateFormatter('%Y-%m-%d')"
   ]
  },
  {
   "cell_type": "code",
   "execution_count": 326,
   "metadata": {
    "collapsed": false
   },
   "outputs": [
    {
     "data": {
      "image/png": "[encoded data removed]",
      "text/plain": [
       "<matplotlib.figure.Figure at 0x7f6dec5c3c18>"
      ]
     },
     "metadata": {},
     "output_type": "display_data"
    }
   ],
   "source": [
    "fig, axH, axS, axV = figure_plotting_space()\n",
    "plot_colorbar(axH,[hue_stretch], ylabel='hue')\n",
    "plot_timeseries(axS,'sat')\n",
    "plot_timeseries(axV,'val')"
   ]
  },
  {
   "cell_type": "markdown",
   "metadata": {},
   "source": [
    "#### Save to excel"
   ]
  },
  {
   "cell_type": "code",
   "execution_count": null,
   "metadata": {
    "collapsed": false
   },
   "outputs": [],
   "source": [
    "# # create an excel directory\n",
    "# excel_dir = os.path.join(base_dir,'files','excel')\n",
    "# if not os.path.exists(excel_dir):\n",
    "#     os.makedirs(excel_dir)\n",
    "\n",
    "# # create pandas data frame\n",
    "# df = pd.DataFrame.from_dict(timeSeries)\n",
    "\n",
    "# # save to excel\n",
    "# df.to_excel(os.path.join(excel_dir, target+'_'+mission+'.xlsx'), index=False)"
   ]
  }
 ],
 "metadata": {
  "anaconda-cloud": {},
  "kernelspec": {
   "display_name": "Python [default]",
   "language": "python",
   "name": "python3"
  },
  "language_info": {
   "codemirror_mode": {
    "name": "ipython",
    "version": 3
   },
   "file_extension": ".py",
   "mimetype": "text/x-python",
   "name": "python",
   "nbconvert_exporter": "python",
   "pygments_lexer": "ipython3",
   "version": "3.5.3"
  }
 },
 "nbformat": 4,
 "nbformat_minor": 2
}
