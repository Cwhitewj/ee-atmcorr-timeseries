{
 "cells": [
  {
   "cell_type": "markdown",
   "metadata": {},
   "source": [
    "# Atmospherically Corrected Earth Engine Time Series "
   ]
  },
  {
   "cell_type": "markdown",
   "metadata": {},
   "source": [
    "### Overview\n",
    "\n",
    "This notebook creates an atmospherically corrected Sentinel 2 time series.\n",
    "\n",
    "### Output\n",
    "\n",
    "Mean average (cloud-free) pixel values."
   ]
  },
  {
   "cell_type": "markdown",
   "metadata": {},
   "source": [
    "#### Initialize"
   ]
  },
  {
   "cell_type": "code",
   "execution_count": null,
   "metadata": {
    "collapsed": false
   },
   "outputs": [],
   "source": [
    "import ee\n",
    "ee.Initialize()"
   ]
  },
  {
   "cell_type": "code",
   "execution_count": null,
   "metadata": {
    "collapsed": false
   },
   "outputs": [],
   "source": [
    "import os\n",
    "import sys\n",
    "import numpy as np\n",
    "from matplotlib import pylab as plt\n",
    "%matplotlib inline\n",
    "sys.path.append(os.path.join(os.path.dirname(os.getcwd()),'atmcorr'))\n",
    "import interpolated_lookup_tables as iLUT\n",
    "from ee_requests import request_meanRadiance\n",
    "from atmcorr_timeseries import surface_reflectance_timeseries\n",
    "from plots import plot_timeseries"
   ]
  },
  {
   "cell_type": "markdown",
   "metadata": {},
   "source": [
    "#### User Input"
   ]
  },
  {
   "cell_type": "code",
   "execution_count": null,
   "metadata": {
    "collapsed": false
   },
   "outputs": [],
   "source": [
    "# region of interest\n",
    "geom = ee.Geometry.Point(-122.2586, 37.4967)\n",
    "\n",
    "# start and end of time series\n",
    "startDate = ee.Date('1985-01-01')\n",
    "stopDate  = ee.Date('2020-01-01')\n",
    "\n",
    "# satellite mission\n",
    "mission = 'Sentinel2'"
   ]
  },
  {
   "cell_type": "markdown",
   "metadata": {},
   "source": [
    "#### Interpolated look-up tables\n",
    "\n",
    "The emulator uses interpolated look-up tables to generate atmospheric correction coeffients."
   ]
  },
  {
   "cell_type": "code",
   "execution_count": null,
   "metadata": {
    "collapsed": false
   },
   "outputs": [],
   "source": [
    "iLUTs = iLUT.handler() \n",
    "iLUTs.mission = mission\n",
    "iLUTs.get()"
   ]
  },
  {
   "cell_type": "markdown",
   "metadata": {},
   "source": [
    "#### Mean Average Radiance"
   ]
  },
  {
   "cell_type": "code",
   "execution_count": null,
   "metadata": {
    "collapsed": false
   },
   "outputs": [],
   "source": [
    "# earth engine request\n",
    "request = request_meanRadiance(geom, startDate, stopDate, mission, cloudMask = False)\n",
    "\n",
    "# get data locally (i.e. client side)\n",
    "print('Getting data from Earth Engine.. ')\n",
    "meanRadiance = request.getInfo()\n",
    "print('Data collection complete')"
   ]
  },
  {
   "cell_type": "markdown",
   "metadata": {},
   "source": [
    "#### Two or more images?"
   ]
  },
  {
   "cell_type": "code",
   "execution_count": null,
   "metadata": {
    "collapsed": false
   },
   "outputs": [],
   "source": [
    "num = len(meanRadiance['features'])\n",
    "print('length of data collection = ',num)\n",
    "if num < 2:\n",
    "    print('*'*42+'\\nneed at least 2 images, try user inputs?\\n'+'*'*42)"
   ]
  },
  {
   "cell_type": "markdown",
   "metadata": {},
   "source": [
    "#### Atmospheric Correction"
   ]
  },
  {
   "cell_type": "code",
   "execution_count": null,
   "metadata": {
    "collapsed": false
   },
   "outputs": [],
   "source": [
    "timeSeries = surface_reflectance_timeseries(meanRadiance, iLUTs, mission)"
   ]
  },
  {
   "cell_type": "markdown",
   "metadata": {},
   "source": [
    "### Plots"
   ]
  },
  {
   "cell_type": "markdown",
   "metadata": {},
   "source": [
    "#### Visible wavelengths"
   ]
  },
  {
   "cell_type": "code",
   "execution_count": null,
   "metadata": {
    "collapsed": false
   },
   "outputs": [],
   "source": [
    "print(timeSeries['mission'])"
   ]
  },
  {
   "cell_type": "code",
   "execution_count": null,
   "metadata": {
    "collapsed": false
   },
   "outputs": [],
   "source": [
    "import plots \n",
    "import importlib\n",
    "importlib.reload(plots)\n",
    "\n",
    "plot_timeseries(timeSeries, 'visible')"
   ]
  },
  {
   "cell_type": "markdown",
   "metadata": {},
   "source": [
    "#### Near infrared"
   ]
  },
  {
   "cell_type": "code",
   "execution_count": null,
   "metadata": {
    "collapsed": false
   },
   "outputs": [],
   "source": [
    "plot_timeseries(timeSeries, 'nir')"
   ]
  },
  {
   "cell_type": "markdown",
   "metadata": {},
   "source": [
    "#### Short-wave Infrared"
   ]
  },
  {
   "cell_type": "code",
   "execution_count": null,
   "metadata": {
    "collapsed": false
   },
   "outputs": [],
   "source": [
    "plot_timeseries(timeSeries, 'swir')"
   ]
  },
  {
   "cell_type": "markdown",
   "metadata": {},
   "source": [
    "#### Atmospheric bands"
   ]
  },
  {
   "cell_type": "code",
   "execution_count": null,
   "metadata": {
    "collapsed": false
   },
   "outputs": [],
   "source": [
    "plot_timeseries = plots.plot_timeseries\n",
    "try:\n",
    "    plot_timeseries(timeSeries, 'atmospheric')\n",
    "except:\n",
    "    print('atmospheric bands not available for:',timeSeries['mission'])"
   ]
  }
 ],
 "metadata": {
  "kernelspec": {
   "display_name": "Python 3",
   "language": "python",
   "name": "python3"
  },
  "language_info": {
   "codemirror_mode": {
    "name": "ipython",
    "version": 3
   },
   "file_extension": ".py",
   "mimetype": "text/x-python",
   "name": "python",
   "nbconvert_exporter": "python",
   "pygments_lexer": "ipython3",
   "version": "3.6.0"
  }
 },
 "nbformat": 4,
 "nbformat_minor": 2
}
