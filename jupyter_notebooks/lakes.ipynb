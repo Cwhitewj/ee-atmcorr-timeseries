{
 "cells": [
  {
   "cell_type": "markdown",
   "metadata": {},
   "source": [
    "# Atmospherically Corrected Earth Engine Time Series \n",
    "\n",
    "### Overview\n",
    "\n",
    "This notebook creates atmospherically corrected time series of satellite imagery using [Google Earth Engine](https://earthengine.google.com/) and the [6S emulator](https://github.com/samsammurphy/6S_emulator). \n",
    "\n",
    "### Supported missions\n",
    "\n",
    "* Sentintel2\n",
    "* Landsat8\n",
    "* Landsat7\n",
    "* Landsat5\n",
    "* Landsat4\n",
    "\n",
    "### Output\n",
    "\n",
    "Average, cloud-*free* pixel values \n",
    "\n",
    "### Cloud masking\n",
    "\n",
    "Standard cloud masks are used, i.e. FMASK for Landsat and ESA-QA60 for Sentinel 2.  There is no guarantee that they will find all clouds, a discussion on more advance and/or alternative cloud masking strategies is available [here](https://groups.google.com/forum/#!searchin/google-earth-engine-developers/cloud$20AND$20sentinel2%7Csort:relevance/google-earth-engine-developers/i63DS-Dg8Sg/FWenONUFBwAJ)\n",
    "\n",
    "____"
   ]
  },
  {
   "cell_type": "markdown",
   "metadata": {},
   "source": [
    "### Initialize"
   ]
  },
  {
   "cell_type": "code",
   "execution_count": null,
   "metadata": {},
   "outputs": [],
   "source": [
    "# interactive plots\n",
    "# %matplotlib notebook \n",
    "\n",
    "# plots inside cells\n",
    "# %matplotlib inline\n",
    "\n",
    "# standard modules\n",
    "import os\n",
    "import sys\n",
    "import ee\n",
    "import matplotlib\n",
    "import pandas as pd\n",
    "from IPython.display import display, Image\n",
    "ee.Initialize()\n",
    "\n",
    "# custom modules\n",
    "base_dir = os.path.dirname(os.getcwd())\n",
    "sys.path.append(os.path.join(base_dir,'atmcorr'))\n",
    "from kml_reader import read_kml\n",
    "from data_extraction import Extract as extract\n",
    "from postProcessing import postProcessing\n",
    "from plots import *"
   ]
  },
  {
   "cell_type": "code",
   "execution_count": null,
   "metadata": {},
   "outputs": [],
   "source": [
    "# debugging\n",
    "%load_ext autoreload\n",
    "%autoreload 2"
   ]
  },
  {
   "cell_type": "markdown",
   "metadata": {},
   "source": [
    "### User Input"
   ]
  },
  {
   "cell_type": "code",
   "execution_count": null,
   "metadata": {},
   "outputs": [],
   "source": [
    "target = 'Sirung'\n",
    "\n",
    "geom = read_kml(target, kmlFile='Corentin.kml')\n",
    "\n",
    "# geom = ee.Geometry.Point(138.53587, 36.643136).buffer(80) #Yugama\n",
    "# geom = ee.Geometry.Point(-84.230869, 10.197807).buffer(120) # Poas\n",
    "\n",
    "\n",
    "startDate = '1984-01-01'\n",
    "stopDate  = '2017-11-01'\n",
    "\n",
    "missions = ['Sentinel2', 'Landsat8', 'Landsat7', 'Landsat5', 'Landsat4']"
   ]
  },
  {
   "cell_type": "markdown",
   "metadata": {},
   "source": [
    "### Google Earth Engine TimeSeries\n",
    "\n",
    "There are three methods for accessing Earth Engine data locally\n",
    "\n",
    "* **`excel`**: reads data from excel file on disk\n",
    "\n",
    "\n",
    "* **`getinfo`**: get data sent directly to this notebook\n",
    "\n",
    "\n",
    "* **`googledrive`**: export to google drive\n",
    "\n",
    "\n",
    "To specify just one method use the keyword\n",
    "\n",
    "`method = ...`\n",
    "\n",
    "otherwise, will try each method sequentially"
   ]
  },
  {
   "cell_type": "code",
   "execution_count": null,
   "metadata": {
    "scrolled": true
   },
   "outputs": [],
   "source": [
    "from data_extraction import Extract as extract\n",
    "data = extract.timeseries(target, geom, startDate, stopDate, missions, method='getinfo')"
   ]
  },
  {
   "cell_type": "markdown",
   "metadata": {
    "collapsed": true
   },
   "source": [
    "### Atmospherically correct the data\n",
    "\n",
    "Perform atmospheric correction of wavebands between 0.4 and 2.2 microns (i.e. blue to shortwave-infrared)."
   ]
  },
  {
   "cell_type": "code",
   "execution_count": null,
   "metadata": {},
   "outputs": [],
   "source": [
    "from atmospheric_correction import run_atmcorr\n",
    "data = run_atmcorr(data)"
   ]
  },
  {
   "cell_type": "markdown",
   "metadata": {},
   "source": [
    "### Color Space\n",
    "\n",
    "The hue-saturation-value color space is added to the dataset"
   ]
  },
  {
   "cell_type": "code",
   "execution_count": null,
   "metadata": {},
   "outputs": [],
   "source": [
    "# red-green-blue\n",
    "rgb = list(zip(data['red'], data['green'], data['blue']))\n",
    "\n",
    "# hue-staturation-value\n",
    "hsv = [colorsys.rgb_to_hsv(x[0], x[1], x[2]) for x in rgb]\n",
    "\n",
    "data['hue'] = [x[0] for x in hsv]\n",
    "data['sat'] = [x[1] for x in hsv]\n",
    "data['val'] = [x[2] for x in hsv]"
   ]
  },
  {
   "cell_type": "markdown",
   "metadata": {},
   "source": [
    "### Manually inspect images?\n",
    "The cloud mask is not perfect. You can visually inspect surface reflectance images.\n",
    "\n",
    "* check everything looks good before batch export"
   ]
  },
  {
   "cell_type": "code",
   "execution_count": null,
   "metadata": {},
   "outputs": [],
   "source": [
    "from image_viewer import *\n",
    "\n",
    "date = '2000-08-04'\n",
    "region = view_window(geom)\n",
    "maxValue = 0.3\n",
    "\n",
    "rgb = surface_reflectance_inspector(data,\\\n",
    "                                    date=date, \\\n",
    "                                    bands = ['red', 'green', 'blue'])\n",
    "\n",
    "jupyter_img = Image(url=rgb.getThumbUrl({\n",
    "                                    'region':region,\n",
    "                                    'min':0,\n",
    "                                    'max':maxValue\n",
    "                                    }))\n",
    "\n",
    "display(jupyter_img)"
   ]
  },
  {
   "cell_type": "markdown",
   "metadata": {},
   "source": [
    "* batch upload image subsets to google drive"
   ]
  },
  {
   "cell_type": "code",
   "execution_count": null,
   "metadata": {},
   "outputs": [],
   "source": [
    "# from batch_quicklook import export_rgb\n",
    "\n",
    "# # bucket = 'your-google-storage-bucket'\n",
    "# # # You can get 5Gb of storage for free for each cloud project by enabling \n",
    "# # # App Engine Standard and using its default storage, in which case\n",
    "# # # the name of the bucket will be '<project_name>.appspot.com'\n",
    "\n",
    "# bucket = 'craterlakes-178002.appspot.com'\n",
    "# export_rgb(data, region, bucket, targetName=target, maxValue=maxValue)"
   ]
  },
  {
   "cell_type": "markdown",
   "metadata": {},
   "source": [
    "* batch download locally"
   ]
  },
  {
   "cell_type": "code",
   "execution_count": null,
   "metadata": {
    "scrolled": true
   },
   "outputs": [],
   "source": [
    "# from batch_quicklook import download_rgb\n",
    "\n",
    "# local_dir = '/home/sam/Dropbox/HIGP/Crater_Lakes/Corentin/'+target+'/images/original'\n",
    "\n",
    "# # download_rgb(target, bucket, local_dir)"
   ]
  },
  {
   "cell_type": "markdown",
   "metadata": {},
   "source": [
    "* manually remove the images you don't want to keep in the plots"
   ]
  },
  {
   "cell_type": "code",
   "execution_count": null,
   "metadata": {
    "scrolled": true
   },
   "outputs": [],
   "source": [
    "from manual_inspection import add_clean_column\n",
    "\n",
    "# # I keep a separate 'clean' directory\n",
    "# clean_dir = os.path.join(os.path.dirname(local_dir), 'clean')\n",
    "clean_dir = '/home/sam/Dropbox/HIGP/Crater_Lakes/Corentin/'+target+'/images/clean'\n",
    "\n",
    "# # add a 'clean' column to the excel file which tracks which images are in the clean_dir\n",
    "data = add_clean_column(data, clean_dir)"
   ]
  },
  {
   "cell_type": "markdown",
   "metadata": {},
   "source": [
    "### Save post-processing to excel"
   ]
  },
  {
   "cell_type": "code",
   "execution_count": null,
   "metadata": {},
   "outputs": [],
   "source": [
    "from data_extraction import *\n",
    "data = Excel.save(data, target)"
   ]
  },
  {
   "cell_type": "markdown",
   "metadata": {},
   "source": [
    "### Time Series Plots"
   ]
  },
  {
   "cell_type": "code",
   "execution_count": null,
   "metadata": {},
   "outputs": [],
   "source": [
    "from plots import Plot\n",
    "plot = Plot(data, '1986-01-01','2018-01-01')\n",
    "basedir = '/home/sam/Dropbox/HIGP/Crater_Lakes/Corentin/'\n",
    "fileNamePrefix = '/home/sam/Desktop/'+target"
   ]
  },
  {
   "cell_type": "code",
   "execution_count": null,
   "metadata": {},
   "outputs": [],
   "source": [
    "# from plot_field_data import *\n",
    "# plot_single_variable('fieldT', target, '1985-01-01','2018-01-01')"
   ]
  },
  {
   "cell_type": "code",
   "execution_count": null,
   "metadata": {
    "scrolled": false
   },
   "outputs": [],
   "source": [
    "plot.hue(fileNamePrefix=fileNamePrefix)"
   ]
  },
  {
   "cell_type": "code",
   "execution_count": null,
   "metadata": {},
   "outputs": [],
   "source": [
    "plot.graph('sat', ylim=[0,1], fileNamePrefix=fileNamePrefix)"
   ]
  },
  {
   "cell_type": "code",
   "execution_count": null,
   "metadata": {},
   "outputs": [],
   "source": [
    "plot.graph('val', fileNamePrefix=fileNamePrefix)"
   ]
  },
  {
   "cell_type": "code",
   "execution_count": null,
   "metadata": {},
   "outputs": [],
   "source": [
    "plot.graph('Temp_1', ylabel='B. Temp. (oC)', fileNamePrefix=fileNamePrefix)"
   ]
  }
 ],
 "metadata": {
  "anaconda-cloud": {},
  "kernelspec": {
   "display_name": "Python 3",
   "language": "python",
   "name": "python3"
  },
  "language_info": {
   "codemirror_mode": {
    "name": "ipython",
    "version": 3
   },
   "file_extension": ".py",
   "mimetype": "text/x-python",
   "name": "python",
   "nbconvert_exporter": "python",
   "pygments_lexer": "ipython3",
   "version": "3.6.5"
  }
 },
 "nbformat": 4,
 "nbformat_minor": 2
}
