{
 "cells": [
  {
   "cell_type": "markdown",
   "metadata": {},
   "source": [
    "# Atmospherically Corrected Earth Engine Time Series "
   ]
  },
  {
   "cell_type": "markdown",
   "metadata": {},
   "source": [
    "### Overview\n",
    "\n",
    "This notebook creates atmospherically corrected time series of satellite imagery using [Google Earth Engine](https://earthengine.google.com/) and the [6S emulator](https://github.com/samsammurphy/6S_emulator). \n",
    "\n",
    "### Supported missions\n",
    "\n",
    "* Sentintel2\n",
    "* Landsat8\n",
    "* Landsat7\n",
    "* Landsat5\n",
    "* Landsat4\n",
    "\n",
    "### Output\n",
    "\n",
    "Average, cloud-*free* pixel values \n",
    "\n",
    "### Cloud masking\n",
    "\n",
    "Uses standard cloud masks, i.e. FMASK for Landsat and ESA-QA60 for Sentinel 2.  There is no guarantee they will find all clouds, a discussion on more advance and/or alternative cloud masking strategies is available [here](https://groups.google.com/forum/#!searchin/google-earth-engine-developers/cloud$20AND$20sentinel2%7Csort:relevance/google-earth-engine-developers/i63DS-Dg8Sg/FWenONUFBwAJ)"
   ]
  },
  {
   "cell_type": "markdown",
   "metadata": {},
   "source": [
    "#### Initialize"
   ]
  },
  {
   "cell_type": "code",
   "execution_count": null,
   "metadata": {
    "collapsed": false
   },
   "outputs": [],
   "source": [
    "# standard modules\n",
    "import os\n",
    "import sys\n",
    "import ee\n",
    "import matplotlib\n",
    "import pandas as pd\n",
    "%matplotlib inline\n",
    "ee.Initialize()\n",
    "\n",
    "# custom modules\n",
    "base_dir = os.path.dirname(os.getcwd())\n",
    "sys.path.append(os.path.join(base_dir,'atmcorr'))\n",
    "from kml_reader import read_kml\n",
    "from ee_requests import request_meanRadiance\n",
    "from data_extraction import *\n",
    "\n",
    "from timeSeries import timeSeries\n",
    "from postProcessing import postProcessing\n",
    "from plots import *\n"
   ]
  },
  {
   "cell_type": "code",
   "execution_count": null,
   "metadata": {
    "collapsed": true
   },
   "outputs": [],
   "source": [
    "#debuggin\n",
    "%load_ext autoreload\n",
    "%autoreload 2"
   ]
  },
  {
   "cell_type": "markdown",
   "metadata": {},
   "source": [
    "### User Input"
   ]
  },
  {
   "cell_type": "code",
   "execution_count": null,
   "metadata": {
    "collapsed": true
   },
   "outputs": [],
   "source": [
    "target = 'Paderno'\n",
    "\n",
    "# geometry\n",
    "geom = read_kml('RED_LAKES.kml', target)\n",
    "\n",
    "# start and end of time series\n",
    "startDate = '1985-01-01'# YYYY-MM-DD\n",
    "stopDate  = '2017-01-01'# YYYY-MM-DD\n",
    "\n",
    "# satellite missions\n",
    "missions = ['Sentinel2', 'Landsat8', 'Landsat7', 'Landsat5', 'Landsat4']"
   ]
  },
  {
   "cell_type": "markdown",
   "metadata": {},
   "source": [
    "### Google Earth Engine TimeSeries\n",
    "\n",
    "We need to extract data from Earth Engine so that we can process it locally. The following code gets the mean average radiance through time from inside the geometry defined above. \n",
    "\n",
    "It also grabs the inputs required for atmospheric correction (e.g. aerosol optical thickness, water vapor, etc.).\n",
    "\n",
    "Clouds are masked by default."
   ]
  },
  {
   "cell_type": "markdown",
   "metadata": {},
   "source": [
    "* mean radiance extractor invocation (all missions)\n",
    "\n",
    "* try getInfo()\n",
    "\n",
    "* except extract to csv and print instructions"
   ]
  },
  {
   "cell_type": "markdown",
   "metadata": {},
   "source": [
    "#### Earth Engine Requests\n",
    "Let's set up some requests for Earth Engine data."
   ]
  },
  {
   "cell_type": "code",
   "execution_count": null,
   "metadata": {
    "collapsed": true
   },
   "outputs": [],
   "source": [
    "requests = {}\n",
    "\n",
    "for mission in missions:\n",
    "    requests[mission] = request_meanRadiance(geom, startDate, stopDate, mission, True)"
   ]
  },
  {
   "cell_type": "markdown",
   "metadata": {},
   "source": [
    "There are two methods for  accessing this data locally.\n",
    "\n",
    "1. getInfo \n",
    "2. export \n",
    "\n",
    "The **getInfo()** option requires less steps so we try that first. The **export** option can handle larger requests (it is our backup plan)."
   ]
  },
  {
   "cell_type": "code",
   "execution_count": null,
   "metadata": {
    "collapsed": false,
    "scrolled": true
   },
   "outputs": [],
   "source": [
    "try:\n",
    "    data = data_from_getInfo(requests)\n",
    "except Exception as e:\n",
    "    task = data_export_task(requests, target)\n",
    "    data = task_manager(task, target, e)"
   ]
  },
  {
   "cell_type": "code",
   "execution_count": 1,
   "metadata": {
    "collapsed": true
   },
   "outputs": [],
   "source": [
    "# atmospherically correct the data..\n",
    "# IF data = None (let user know and double check the csv directory)"
   ]
  },
  {
   "cell_type": "markdown",
   "metadata": {},
   "source": [
    "### All time series\n",
    "This function extracts cloud-free time series for each mission, atmospherically corrects them and joins them together"
   ]
  },
  {
   "cell_type": "code",
   "execution_count": null,
   "metadata": {
    "collapsed": false
   },
   "outputs": [],
   "source": [
    "allTimeSeries = timeSeries(target, geom, startDate, stopDate, missions)"
   ]
  },
  {
   "cell_type": "markdown",
   "metadata": {},
   "source": [
    "### Data post-processing\n",
    "Resample into daily intervals using liner interpolation and calculate hue-saturation-value from RGB."
   ]
  },
  {
   "cell_type": "code",
   "execution_count": null,
   "metadata": {
    "collapsed": true
   },
   "outputs": [],
   "source": [
    "from postProcessing import postProcessing\n",
    "data = postProcessing(allTimeSeries)"
   ]
  },
  {
   "cell_type": "markdown",
   "metadata": {},
   "source": [
    "### bringing it all together...\n",
    "make a pretty graph to help us do some science."
   ]
  },
  {
   "cell_type": "code",
   "execution_count": null,
   "metadata": {
    "collapsed": true
   },
   "outputs": [],
   "source": [
    "from plots import *\n",
    "t1 = pd.datetime.strptime('2005-01-01','%Y-%m-%d')\n",
    "t2  = pd.datetime.strptime('2017-01-01','%Y-%m-%d')"
   ]
  },
  {
   "cell_type": "code",
   "execution_count": null,
   "metadata": {
    "collapsed": true
   },
   "outputs": [],
   "source": [
    "fieldData = load_fieldData(target, startDate, stopDate)"
   ]
  },
  {
   "cell_type": "code",
   "execution_count": null,
   "metadata": {
    "collapsed": false,
    "scrolled": true
   },
   "outputs": [],
   "source": [
    "from plots import *\n",
    "save = True\n",
    "# save = False\n",
    "plot_history(target, fieldData, t1, t2, save=save)"
   ]
  },
  {
   "cell_type": "code",
   "execution_count": null,
   "metadata": {
    "collapsed": false
   },
   "outputs": [],
   "source": [
    "plot_acid(target, fieldData, t1, t2, save=save)"
   ]
  },
  {
   "cell_type": "code",
   "execution_count": null,
   "metadata": {
    "collapsed": false
   },
   "outputs": [],
   "source": [
    "plot_other(target, fieldData, t1, t2, save=save)"
   ]
  },
  {
   "cell_type": "code",
   "execution_count": null,
   "metadata": {
    "collapsed": false
   },
   "outputs": [],
   "source": [
    "plot_hueSticks(target, data, t1, t2, save=save)"
   ]
  },
  {
   "cell_type": "code",
   "execution_count": null,
   "metadata": {
    "collapsed": false
   },
   "outputs": [],
   "source": [
    "plot_color(target, data,'sat', t1, t2, fieldData, save=save)"
   ]
  },
  {
   "cell_type": "code",
   "execution_count": null,
   "metadata": {
    "collapsed": false
   },
   "outputs": [],
   "source": [
    "plot_color(target, data, 'val', t1, t2, fieldData, save=save)"
   ]
  },
  {
   "cell_type": "code",
   "execution_count": null,
   "metadata": {
    "collapsed": true
   },
   "outputs": [],
   "source": []
  }
 ],
 "metadata": {
  "anaconda-cloud": {},
  "kernelspec": {
   "display_name": "Python [default]",
   "language": "python",
   "name": "python3"
  },
  "language_info": {
   "codemirror_mode": {
    "name": "ipython",
    "version": 3
   },
   "file_extension": ".py",
   "mimetype": "text/x-python",
   "name": "python",
   "nbconvert_exporter": "python",
   "pygments_lexer": "ipython3",
   "version": "3.5.3"
  }
 },
 "nbformat": 4,
 "nbformat_minor": 2
}
